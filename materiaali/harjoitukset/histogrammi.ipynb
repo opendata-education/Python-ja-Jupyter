{
 "cells": [
  {
   "cell_type": "markdown",
   "id": "8d7dd5b0",
   "metadata": {},
   "source": [
    "# Histogrammi\n",
    "\n",
    "Eräs erittäin tärkeä työkalu data-analyysiin on **histogrammi**. Histogrammi on kaavio, jossa on luokiteltu tietyn muuttujan arvoja erikokoisiksi pylväiksi. Luokat määritellään ennen kaavion piirtämistä. Histogrammissa luokat ovat vaaka-akselilla suuruusjärjestyksessä, ja niiden esiintyvyys on pystyakselilla. Pylvään pinta-ala kertoo sen, kuinka suuri osuus datasta kuuluu kyseiseen luokkaan."
   ]
  },
  {
   "cell_type": "markdown",
   "id": "083dfb62",
   "metadata": {},
   "source": [
    "Käytetään esimerkkinä NHL-pelaajien pelitietoja. Tiedot ovat peräisin [QuantHockey-sivustolta](https://www.quanthockey.com/nhl/players/a.php), ja se pitää sisällään tietoa yli 8000:sta pelaajasta."
   ]
  },
  {
   "cell_type": "code",
   "execution_count": null,
   "id": "308c16b9",
   "metadata": {},
   "outputs": [],
   "source": [
    "#Otetaan käyttöön tarvittavat kirjastot.\n",
    "import pandas as pd\n",
    "import numpy as np\n",
    "import matplotlib.pyplot as plt"
   ]
  },
  {
   "cell_type": "code",
   "execution_count": null,
   "id": "27c8e6c1",
   "metadata": {},
   "outputs": [],
   "source": [
    "#Ladataan käytettävä tiedosto muuttujaan.\n",
    "%matplotlib inline\n",
    "nhl_data = pd.read_csv(\"https://raw.githubusercontent.com/opendata-education/Python-ja-Jupyter/main/materiaali/harjoitukset/NHL-players.csv\")\n",
    "nhl_data.head()"
   ]
  },
  {
   "cell_type": "markdown",
   "id": "81f145d0",
   "metadata": {},
   "source": [
    "Haluamme tarkastella pelaajien syntymäkuukausien jakaumaa. Olisiko mahdollista, että joinakin kuukausina syntyneitä pelaajia on selvästi enemmän kuin muina kuukausina syntyneitä? "
   ]
  },
  {
   "cell_type": "code",
   "execution_count": null,
   "id": "8d650aa7",
   "metadata": {},
   "outputs": [],
   "source": [
    "# Otetaan datasta erikseen syntymäpäivät, ja muutetaan sitä niin, että jäljelle jää vain kuukaudet.\n",
    "# Tämän kohdan ymmärtäminen ei ole tärkeää kokonaisuuden kannalta.\n",
    "syntymapaivat = pd.to_datetime(nhl_data['Birthdate'],format='%m/%d/%Y')\n",
    "kuukaudet = syntymapaivat.dt.month"
   ]
  },
  {
   "cell_type": "code",
   "execution_count": null,
   "id": "5133f532",
   "metadata": {},
   "outputs": [],
   "source": [
    "# Piirretään histogrammi pelaajien syntymäkuukausista\n",
    "plt.hist(kuukaudet, bins=12)\n",
    "plt.show()"
   ]
  },
  {
   "cell_type": "markdown",
   "id": "a6ececc6",
   "metadata": {},
   "source": [
    "Hienoa, saimme valmiiksi ensimmäisen histogrammin! Voimme halutessamme tehdä siitä kauniimman nimeämällä akselit ja lisäämällä muita selkeyttäviä ominaisuuksia."
   ]
  },
  {
   "cell_type": "code",
   "execution_count": null,
   "id": "dda84ec7",
   "metadata": {},
   "outputs": [],
   "source": [
    "fig, ax = plt.subplots()  #Talletetaan kuvaaja ja sen akselit muuttujiin\n",
    "fig.set_figheight(6)   \n",
    "fig.set_figwidth(10)      #Asetetaan kuvaajan mitat sopivan kokoisiksi\n",
    "bins = np.arange(1,14)    #Käytetään luokkien määrään numpy-kirjaston arange-funktiota, jotta luokat saadaan oikeille kohdille kuvaajalla.\n",
    "plt.hist(kuukaudet, bins=bins,edgecolor='k', align='left')  #'edgecolor'-muuttujan avulla eri kuukaudet saadaan eroteltua toisistaan. align-muuttujan avulla luokat asetetaan oikeille kohdilleen.  \n",
    "#ax.set_xticks(bins[:-1])   \n",
    "#ax.set_xticklabels(['tammi','helmi','maalis','huhti','touko','kesä','heinä','elo','syys','loka','marras','joulu']) \n",
    "plt.title('NHL-pelaajien syntymäkuukaudet')  #Nimetään kuvaaja\n",
    "plt.xlabel('syntymäkuukausi')   #Nimetään x-akseli\n",
    "plt.ylabel('määrä')     #Nimetään y-akseli\n",
    "plt.show()"
   ]
  },
  {
   "cell_type": "markdown",
   "id": "cb5e41ae",
   "metadata": {},
   "source": [
    "Nyt näyttää jo paremmalta! Muuttamalla binien määrää voimme tehdä uudenlaisia havaintoja. Voi esimerkiksi olla hyödyllistä tarkastella, kuinka suuri osuus pelaajista on syntynyt alku- ja loppuvuonna. Tämä saadaan aikaan vaihtamalla luokkien määräksi kaksi."
   ]
  },
  {
   "cell_type": "code",
   "execution_count": null,
   "id": "e3e5a35f",
   "metadata": {},
   "outputs": [],
   "source": [
    "fig = plt.figure(figsize=(10,6))\n",
    "plt.hist(kuukaudet, bins=2,edgecolor='k')\n",
    "plt.title('NHL-pelaajien syntymäkuukaudet')  #Nimetään kuvaaja\n",
    "plt.xlabel('syntymäkuukausi')   #Nimetään x-akseli\n",
    "plt.ylabel('määrä')     #Nimetään y-akseli\n",
    "plt.show()"
   ]
  },
  {
   "cell_type": "markdown",
   "id": "f3652926",
   "metadata": {},
   "source": [
    "Todetaan, että NHL-pelaajien keskuudessa alkuvuonna syntyneitä on huomattavasti enemmän kuin loppuvuotena syntyneitä. Osaatko sanoa, mistä tämä voisi johtua?"
   ]
  },
  {
   "cell_type": "markdown",
   "id": "785afc0e",
   "metadata": {},
   "source": [
    "Jos tavoitteenasi oli oppia aivan perusteet histogrammeista, yllä olevan lukeminen on tarpeeksi. Jatka lukemista, jos haluat syventyä vielä lisää histogrammeihin ja niiden ominaisuuksiin."
   ]
  },
  {
   "cell_type": "markdown",
   "id": "6cee44b0",
   "metadata": {},
   "source": [
    "## Ero pylväsdiagrammeihin"
   ]
  },
  {
   "cell_type": "markdown",
   "id": "33c22d17",
   "metadata": {},
   "source": [
    "Toinen tärkeä työkalu data-analyysiin on **pylväsdiagrammi**. On tärkeää osata tunnistaa histogrammin ja pylväsdiagrammin ero.\n",
    "Pylväsdiagrammi eroaa histogrammista siten, että siinä data erotellaan erillisiksi kategorioiksi, joiden välillä ei ole mitään tiettyä järjestystä. Kategoriat muodostavat pylväitä, joiden korkeus kertoo kyseisen kategorian esiintyvyyden. Pylväsdiagrammin esitystapa eroaa histogrammista siten, että pylväät eivät koske toisiaan. Pylväiden järjestystä voi myös siirrellä, sillä niillä ei ole välttämättä tiettyä järjestystä."
   ]
  },
  {
   "cell_type": "markdown",
   "id": "1f19aba8",
   "metadata": {},
   "source": [
    "Piirretään seuraavaksi pylväsdiagrammi pelaajien kotimaista."
   ]
  },
  {
   "cell_type": "code",
   "execution_count": null,
   "id": "106a40aa",
   "metadata": {},
   "outputs": [],
   "source": [
    "maat = nhl_data['Country'].astype(str)    #Talletetaan pelaajien kotimaat muuttujaan.\n",
    "ax = maat.value_counts().plot(kind='bar', figsize=(14,8), title=\"Pelaajien lukumäärä maittain\")  #Piirretään kuvaaja\n",
    "ax.set_xlabel(\"Maat\")    #Nimetään akselit\n",
    "ax.set_ylabel(\"Lukumäärä\")\n",
    "plt.show()\n"
   ]
  },
  {
   "cell_type": "markdown",
   "id": "07253927",
   "metadata": {},
   "source": [
    "Yllä olevassa kaaviossa maat on jaoteltu sen mukaan, kuinka monta NHL-pelaajaa on sieltä kotoisin. Tämä ei ole kuitenkaan pakollista, ja aivan yhtä hyvin voisimme jaotella maat esimerkiksi aakkosjärjestyksen mukaan.\n"
   ]
  },
  {
   "cell_type": "markdown",
   "id": "66f54262",
   "metadata": {},
   "source": [
    "## Jakaumat\n",
    "\n",
    "Histogrammien avulla pystytään usein arvioimaan jakaumaan, joka kuvaa muuttujan eri arvojen todennäköisyyttä. Mitä enemmän meillä on dataa, sitä paremmin pystymme arvioimaan jakaumaa. Käytetään esimerkkinä NHL-pelaajien painoja. Tehdään animaatio, jonka avulla näkee, kuinka jakauma muodostuu, kun mittausten määrä kasvaa. Data on kerätty Jatkoaika.com -sivustolta 22.6.2022."
   ]
  },
  {
   "cell_type": "code",
   "execution_count": null,
   "id": "799ceceb",
   "metadata": {},
   "outputs": [],
   "source": [
    "# Talletetaan nykyisten NHL-pelaajien biometrinen data muuttujaan\n",
    "nhl_biometrics = pd.read_csv(\"https://raw.githubusercontent.com/opendata-education/Python-ja-Jupyter/main/materiaali/harjoitukset/NHL_biometrics.csv\")\n",
    "nhl_biometrics.head()"
   ]
  },
  {
   "cell_type": "code",
   "execution_count": null,
   "id": "1e599f96",
   "metadata": {},
   "outputs": [],
   "source": [
    "painot = nhl_biometrics['Weight (kg)']"
   ]
  },
  {
   "cell_type": "code",
   "execution_count": null,
   "id": "aa182d5b",
   "metadata": {},
   "outputs": [],
   "source": [
    "# Tuodaan tarvittavat kirjastot\n",
    "import matplotlib.animation as animation\n",
    "from scipy.stats import norm\n",
    "\n",
    "def updt_hist(num, painot):\n",
    "    plt.cla()\n",
    "    plt.xlim((70,120))\n",
    "    plt.hist(painot[:num*10], bins = 50)\n",
    "    plt.gca().set_title('Normaalijakautuman muodostuminen pelaajien painoista')\n",
    "    plt.gca().set_ylabel('määrä')\n",
    "    plt.gca().set_xlabel('paino (kg)')"
   ]
  },
  {
   "cell_type": "code",
   "execution_count": null,
   "id": "648b9206",
   "metadata": {},
   "outputs": [],
   "source": [
    "%%capture\n",
    "# tämä ns. magic-funktio estää ylimääräisiä frameja ponnahtamasta esiin kesken animaation.\n",
    "\n",
    "# Alustetaan kuvaaja\n",
    "fig = plt.figure(figsize=(15,10))\n",
    "\n",
    "# Luodaan animaatio\n",
    "anim = animation.FuncAnimation(fig, updt_hist, frames = 100, fargs = (painot,))\n",
    "\n",
    "#Tehdään animaatiosta HTML-representaatio\n",
    "from IPython.display import HTML\n",
    "HTML(anim.to_jshtml())"
   ]
  },
  {
   "cell_type": "code",
   "execution_count": null,
   "id": "06c2c904",
   "metadata": {},
   "outputs": [],
   "source": [
    "#Kun olet ajanut tämän solun, scrollaa alaspäin niin näet animaation.\n",
    "HTML(anim.to_jshtml())"
   ]
  },
  {
   "cell_type": "markdown",
   "id": "c910c4da",
   "metadata": {},
   "source": [
    "Pelaajien painot näyttävät noudattavan **normaalijakaumaa**. Normaalijakauma eli Gaussin jakauma esiintyy kaikenlaisissa ilmiöissä ihmisten painoista ja pituuksista hiukkasfysiikkaan. Datamäärän kasvaessa kuvaaja muistuttaa normaalijakaumaa yhä enemmän.\n",
    "\n",
    "Alla näkyy normaalijakauma keskiarvolla 0 ja keskihajonnalla 1."
   ]
  },
  {
   "cell_type": "code",
   "execution_count": null,
   "id": "754595c2",
   "metadata": {},
   "outputs": [],
   "source": [
    "import scipy.stats\n",
    "\n",
    "mu, sigma = scipy.stats.norm.fit(painot)\n",
    "\n",
    "mu = 0\n",
    "sigma = 1\n",
    "x = np.linspace(mu - 3*sigma, mu + 3*sigma, 100)\n",
    "plt.plot(x, scipy.stats.norm.pdf(x, mu, sigma))\n",
    "plt.show()"
   ]
  },
  {
   "cell_type": "markdown",
   "id": "eb9dc596",
   "metadata": {},
   "source": [
    "### Valinnainen (haastava) lisätehtävä: Sovita normaalijakauma histogrammiin. \n",
    "Voit käyttää apunasi [tätä materiaalia](https://opendata-education.github.io/Fysiikka/harjoitukset/cms-sovite.html)."
   ]
  },
  {
   "cell_type": "code",
   "execution_count": null,
   "id": "2c8ca453",
   "metadata": {},
   "outputs": [],
   "source": [
    "# Kirjoita koodisi alle."
   ]
  }
 ],
 "metadata": {
  "kernelspec": {
   "display_name": "Python 3 (ipykernel)",
   "language": "python",
   "name": "python3"
  },
  "language_info": {
   "codemirror_mode": {
    "name": "ipython",
    "version": 3
   },
   "file_extension": ".py",
   "mimetype": "text/x-python",
   "name": "python",
   "nbconvert_exporter": "python",
   "pygments_lexer": "ipython3",
   "version": "3.9.12"
  }
 },
 "nbformat": 4,
 "nbformat_minor": 5
}
