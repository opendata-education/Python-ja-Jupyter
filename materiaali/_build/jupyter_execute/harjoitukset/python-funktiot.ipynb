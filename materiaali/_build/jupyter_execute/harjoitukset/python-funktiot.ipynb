{
 "cells": [
  {
   "cell_type": "markdown",
   "id": "coral-triangle",
   "metadata": {},
   "source": [
    "# Funktiot Pythonissa"
   ]
  },
  {
   "cell_type": "markdown",
   "id": "based-quebec",
   "metadata": {},
   "source": [
    "Funktiot ovat sellaista koodia, jota tyypillisesti tarvitaan usein ja jota voidaan uudelleenkäyttää helposti. Pythonissa on paljon [valmiita funktioita](https://docs.python.org/3/library/functions.html), esimerkiksi  [`print()`](https://docs.python.org/3/library/functions.html#print), jonka avulla tulostetaan tekstiä. `print()`-funktiolle kirjoitetaan sulkeiden sisään tulostettava teksti, kuten \"Hello, World!\". Tätä kutsutaan funktion parametriksi. Funktiosta riippuen parametreja voidaan tarvita useampiakin (tai ei yhtäkään).\n",
    "\n",
    "Tutustutaan tässä harjoituksessa omien funktioiden tekemiseen Pythonilla.\n",
    "\n",
    "Funktion määrittelemiseen käytetään **def**-komentoa. Seuraavassa esimerkissä määritellään funktio, nimeltä \"tervehdys\", joka tulostaa sanan \"Terve!\"."
   ]
  },
  {
   "cell_type": "code",
   "execution_count": 1,
   "id": "qualified-horizontal",
   "metadata": {},
   "outputs": [],
   "source": [
    "def tervehdys():\n",
    "    print('Terve!')"
   ]
  },
  {
   "cell_type": "markdown",
   "id": "internal-there",
   "metadata": {},
   "source": [
    "Nyt tekemäämme funktiota voidaan käyttää seuraavasti:"
   ]
  },
  {
   "cell_type": "code",
   "execution_count": 2,
   "id": "understanding-homeless",
   "metadata": {},
   "outputs": [
    {
     "name": "stdout",
     "output_type": "stream",
     "text": [
      "Terve!\n"
     ]
    }
   ],
   "source": [
    "tervehdys()"
   ]
  },
  {
   "cell_type": "markdown",
   "id": "wrong-christian",
   "metadata": {},
   "source": [
    "Tehdään seuraavaksi vastaava funktio, mutta siten, että funktiolle annetaan **parametrina** nimi, jota tervehditään. Kutsutaan tätä funktiota nimellä \"tervehdi\"."
   ]
  },
  {
   "cell_type": "code",
   "execution_count": 5,
   "id": "similar-conservative",
   "metadata": {},
   "outputs": [],
   "source": [
    "def tervehdi(nimi):\n",
    "    print(\"Terve \" + nimi + \"!\")"
   ]
  },
  {
   "cell_type": "code",
   "execution_count": 6,
   "id": "passing-times",
   "metadata": {
    "scrolled": true
   },
   "outputs": [
    {
     "name": "stdout",
     "output_type": "stream",
     "text": [
      "Terve Pekka!\n"
     ]
    }
   ],
   "source": [
    "tervehdi(\"Pekka\")"
   ]
  },
  {
   "cell_type": "markdown",
   "id": "headed-favor",
   "metadata": {},
   "source": [
    "Funktio voi antaa myös **paluuarvon**. Tehdään esimerkkifunktio, joka ottaa kaksi lukua parametreina ja antaa paluuarvona näiden summan. Kutsutaan funktiota nimellä \"summa\". Paluuarvo annetaan funktiossa komennolla **return**. Tämän komennon jälkeen funktion suoritus päättyy, vaikka sen jälkeen olisikin kirjoitettu vielä koodia."
   ]
  },
  {
   "cell_type": "code",
   "execution_count": 7,
   "id": "beginning-madness",
   "metadata": {},
   "outputs": [],
   "source": [
    "def summa(a, b):\n",
    "    return a + b"
   ]
  },
  {
   "cell_type": "code",
   "execution_count": 8,
   "id": "active-perth",
   "metadata": {},
   "outputs": [
    {
     "data": {
      "text/plain": [
       "7"
      ]
     },
     "execution_count": 8,
     "metadata": {},
     "output_type": "execute_result"
    }
   ],
   "source": [
    "summa(3,4)"
   ]
  },
  {
   "cell_type": "markdown",
   "id": "digital-sleeve",
   "metadata": {},
   "source": [
    "Funktion paluuarvon voi tallentaa muuttujaan seuraavasti:"
   ]
  },
  {
   "cell_type": "code",
   "execution_count": 9,
   "id": "duplicate-carter",
   "metadata": {},
   "outputs": [],
   "source": [
    "x = summa(1,3)"
   ]
  },
  {
   "cell_type": "code",
   "execution_count": 10,
   "id": "controlled-laugh",
   "metadata": {},
   "outputs": [
    {
     "name": "stdout",
     "output_type": "stream",
     "text": [
      "4\n"
     ]
    }
   ],
   "source": [
    "print(x)"
   ]
  },
  {
   "cell_type": "markdown",
   "id": "aggressive-communication",
   "metadata": {},
   "source": [
    "<div class=\"alert alert-info\">\n",
    "    \n",
    "**Funktiot**\n",
    "    \n",
    "- Funktion määrittely aloitetaan **def**-komennolla.\n",
    "- Funktiolle voidaan antaa **parametreja**\n",
    "- **Paluuarvo** määritellään **return**-komennolla\n",
    "    \n",
    "```python\n",
    "def funktion_nimi(parametri1, parametri2):\n",
    "    # Tehdään jotain parametreilla\n",
    "    return paluuarvo\n",
    "```\n",
    "</div>"
   ]
  },
  {
   "cell_type": "markdown",
   "id": "german-score",
   "metadata": {},
   "source": [
    "## Esimerkkejä"
   ]
  },
  {
   "cell_type": "markdown",
   "id": "trained-render",
   "metadata": {},
   "source": [
    "### Celsiukset Fahrenheiteiksi\n",
    "\n",
    "Tehdään funktio, joka muuntaa celsiusasteet fahrenheiteiksi kaavalla $y = \\frac{9}{5}x + 32$. Kutsutaan funktiota nimellä \"CF_muunnos\"."
   ]
  },
  {
   "cell_type": "code",
   "execution_count": 17,
   "id": "searching-debate",
   "metadata": {},
   "outputs": [],
   "source": [
    "def CF_muunnos(celsius):\n",
    "    fahrenheit = 9/5*celsius + 32\n",
    "    return fahrenheit"
   ]
  },
  {
   "cell_type": "code",
   "execution_count": 19,
   "id": "portable-concept",
   "metadata": {},
   "outputs": [
    {
     "data": {
      "text/plain": [
       "68.0"
      ]
     },
     "execution_count": 19,
     "metadata": {},
     "output_type": "execute_result"
    }
   ],
   "source": [
    "CF_muunnos(20) # 20 celsiusastetta Fahrenheiteina"
   ]
  },
  {
   "cell_type": "markdown",
   "id": "interstate-plant",
   "metadata": {},
   "source": [
    "### Toisen asteen yhtälö\n",
    "\n",
    "Tehdään funktio, joka antaa toisen asteen yhtälön $f(x)=x^2+2x+1$ arvon kohdassa x."
   ]
  },
  {
   "cell_type": "code",
   "execution_count": 12,
   "id": "political-south",
   "metadata": {},
   "outputs": [],
   "source": [
    "def f(x):\n",
    "    return x**2 + 3*x + 1"
   ]
  },
  {
   "cell_type": "code",
   "execution_count": 13,
   "id": "median-surfing",
   "metadata": {
    "scrolled": true
   },
   "outputs": [
    {
     "data": {
      "text/plain": [
       "19"
      ]
     },
     "execution_count": 13,
     "metadata": {},
     "output_type": "execute_result"
    }
   ],
   "source": [
    "f(3)"
   ]
  },
  {
   "cell_type": "markdown",
   "id": "altered-nashville",
   "metadata": {},
   "source": [
    "Yleisempi funktio, jolle voidaan antaa myös vapaavalintaiset parametrit $a, b, c$"
   ]
  },
  {
   "cell_type": "code",
   "execution_count": 14,
   "id": "demanding-memphis",
   "metadata": {},
   "outputs": [],
   "source": [
    "def g(x, a, b, c):\n",
    "    return a*x**2 + b*x + c"
   ]
  },
  {
   "cell_type": "code",
   "execution_count": 16,
   "id": "arabic-scheme",
   "metadata": {},
   "outputs": [
    {
     "data": {
      "text/plain": [
       "11"
      ]
     },
     "execution_count": 16,
     "metadata": {},
     "output_type": "execute_result"
    }
   ],
   "source": [
    "g(2, 1, 2, 3) # 2²+2*2+3"
   ]
  }
 ],
 "metadata": {
  "kernelspec": {
   "display_name": "Python 3",
   "language": "python",
   "name": "python3"
  },
  "language_info": {
   "codemirror_mode": {
    "name": "ipython",
    "version": 3
   },
   "file_extension": ".py",
   "mimetype": "text/x-python",
   "name": "python",
   "nbconvert_exporter": "python",
   "pygments_lexer": "ipython3",
   "version": "3.8.5"
  }
 },
 "nbformat": 4,
 "nbformat_minor": 5
}