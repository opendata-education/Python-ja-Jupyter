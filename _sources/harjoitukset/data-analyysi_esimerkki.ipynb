{
 "cells": [
  {
   "cell_type": "markdown",
   "metadata": {},
   "source": [
    "# Harjoittele data-analyysiä"
   ]
  },
  {
   "cell_type": "markdown",
   "metadata": {},
   "source": [
    "Tässä harjoituksessa käydään läpi esimerkki siitä, miten ohjelmointia voidaan hyödyntää datan analysoimisessa Python-ohjelmointikielellä. Aloitamme Jupyter notebook -ympäristön perusteista ja etenemme siitä Pythonin ja data-analyysin pariin."
   ]
  },
  {
   "cell_type": "markdown",
   "metadata": {},
   "source": [
    "## Notebookien käyttö"
   ]
  },
  {
   "cell_type": "markdown",
   "metadata": {},
   "source": [
    "Jupyter notebookit ovat dokumentteja, joihin voidaan kirjoittaa tekstiä, lisätä kuvia tai videoita sekä kirjoittaa koodia ja nähdä koodin tulos.\n",
    "\n",
    "Dokumentti rakentuu \"soluista\", jotka voivat olla joko **tekstisoluja** tai **koodisoluja**. Esimerkiksi tämä solu on tekstisolu. Jos painat tätä tekstisolua, näet että solun reuna muuttuu siniseksi. Tämä tarkoittaa sitä, että solu on valittu. Jos taas kaksoisklikkaat tekstisolua, se avautuu muokkaustilaan ja solun reuna muuttuu vihreäksi. Solun voi \"ajaa\" painamalla \"Run\"-painiketta yläreunan työkaluista. Tekstisolun tapauksessa solun ajaminen tarkoittaa sitä, että muokkaustilassa oleva solu menee näyttötilaan.\n",
    "\n",
    "Esimerkki koodisolusta on tämän solun alapuolella. Koodisolun tunnistaa siitä, että sen vasemmassa reunassa on teksti `In [ ]:`. Koodisoluun voidaan kirjoittaa ohjelmakoodia Python-kielellä. Kokeile ajaa alla oleva solu \"Run\"-painiketta painamalla ja katso, mitä tapahtuu!"
   ]
  },
  {
   "cell_type": "code",
   "execution_count": null,
   "metadata": {
    "scrolled": false
   },
   "outputs": [],
   "source": [
    "# Koodisoluissa \"#\"-merkillä alkavat rivit ovat kommentteja. Ne eivät vaikuta ajettavaan koodiin.\n",
    "# Kommenteissa kerrotaan tyypillisesti, mitä koodi tekee. Siihen voi kirjoittaa myös vaikkapa ohjeita.\n",
    "\n",
    "print('Hello, World!')"
   ]
  },
  {
   "cell_type": "markdown",
   "metadata": {},
   "source": [
    "Hienoa, ajoit juuri ensimmäisen koodisolusi! Kun koodisolu on ajettu, solun reunassa olevien sulkeiden sisään tulee numero, esim. `In [1]:`. Jos sulkeiden sisällä on asteriski, eli `In [*]:`, solun ajaminen on vielä kesken.\n",
    "\n",
    "Notebookeissa voit lisätä soluja aktiivisen solun alapuolelle painamalla työkaluista \"+\"-painiketta. Aktiivisen solun voi muuttaa koodisolusta tekstisoluksi ja päinvastoin työkalupalkin pudotusvalikosta. Koodisolu on \"Code\" ja tekstisolu on \"Markdown\". Kokeile lisätä koodisolu ja tulostaa jokin teksti vastaavaan tapaan kuin \"Hello, World!\" yläpuolella!"
   ]
  },
  {
   "cell_type": "markdown",
   "metadata": {},
   "source": [
    "## Python-ohjelmointi"
   ]
  },
  {
   "cell_type": "markdown",
   "metadata": {},
   "source": [
    "Tämän harjoituksen tarkoituksena on opastaa data-analyysin saloihin Pythonin avulla. Tästä syystä emme käy läpi kaikkia Python-kielen hienouksia, vaan tutustumme käytännönläheisesti Pythoniin data-analyysissa. Jos kaipaat enemmän materiaalia päästäksesi alkuun Pythonin kanssa, voit aloittaa esimerkiksi osoitteesta [https://www.learnpython.org/](https://www.learnpython.org/)."
   ]
  },
  {
   "cell_type": "markdown",
   "metadata": {},
   "source": [
    "### Datan lukeminen tiedostosta\n",
    "\n",
    "Olennainen osa data-analyysiä on hankkia itse data. Kun data on kerätty, se tallennetaan yleensä johonkin tiedostoon. Otetaan esimerkkinä vaikkapa Ilmatieteenlaitoksen säähavainnot. Säähavainnoista kertyy dataa, joka tallennetaan tiedostoihin. Ilmatieteenlaitoksen avoimesta hakupalvelusta voidaan hakea dataa tietyillä kriteereillä, jolloin voimme ladata haluamamme datan esimerkiksi csv-tiedostona. Käytetään esimerkkidatana [Ilmatieteenlaitoksen hakupalvelusta](https://www.ilmatieteenlaitos.fi/havaintojen-lataus) ladattua dataa vuoden 2020 kuukausien keskilämpötiloista Helsinki-Vantaan lentoasemalta mitattuna. Datatiedosto on valmiiksi ladattu hakupalvelusta ja löytyy tiedostonimellä \"keskilampotila2020_Helsinki.csv\".\n",
    "\n",
    "Pythonissa on sekä valmiina että ladattavissa paljon erilaisia paketteja (myös kirjasto tai moduuli), jotka sisältävät muiden tekemää koodia, jota voi kätevästi hyödyntää omassa koodissaan. Tutustutaan tässä kahteen data-analyysin kannalta olennaiseen pakettiin, jotka ovat [pandas]() ja [matplotlib](). Pandas-paketti sisältää työkaluja datatiedostojen lukemiseen ja datan käsittelyyn koodissa. Matplotlib puolestaan tarjoaa työkaluja kuvaajien piirtämiseen.\n",
    "\n",
    "Koodissa paketit voidaan ottaa käyttöön `import` komennolla, jonka jälkeen kirjoitetaan paketin nimi, esimerkiksi\n",
    "\n",
    "```python\n",
    "import pandas\n",
    "```\n",
    "\n",
    "Tämän jälkeen pandas-paketin työkalut, esimerkiksi [`read_csv()`](https://pandas.pydata.org/pandas-docs/stable/reference/api/pandas.read_csv.html) (jonka avulla voidaan lukea dataa tiedostosta) ovat käytettävissä seuraavasti:\n",
    "\n",
    "```python\n",
    "pandas.read_csv(...)\n",
    "```\n",
    "\n",
    "Tyypillisesti paketeille asetetaan lyhenne, jolloin koodissa ei tarvitse aina kirjoittaa paketin koko nimeä:\n",
    "\n",
    "```python\n",
    "import pandas as pd\n",
    "pd.read_csv(...)\n",
    "```\n",
    "\n",
    "<div class=\"alert alert-info\">\n",
    "    \n",
    "**Paketit**\n",
    "\n",
    "Ota koko paketti käyttöön **import**-komennolla\n",
    "\n",
    "```python\n",
    "import moduulin_nimi as lyhenne\n",
    "```\n",
    "\n",
    "Esimerkiksi:\n",
    "    \n",
    "```python\n",
    "import pandas as pd\n",
    "```\n",
    "</div>"
   ]
  },
  {
   "cell_type": "code",
   "execution_count": null,
   "metadata": {},
   "outputs": [],
   "source": [
    "# Kirjoita tähän soluun koodi, joka ottaa käyttöön pandas kirjaston lyhenteellä \"pd\"\n",
    "# Lopuksi aja solu. Huom! Solu ei tulosta mitään, koska lataamme ainoastaan paketin käyttöömme.\n",
    "import pandas as pd\n"
   ]
  },
  {
   "cell_type": "markdown",
   "metadata": {},
   "source": [
    "Datan lukeminen tiedostosta onnistuu [`read_csv()`](https://pandas.pydata.org/pandas-docs/stable/reference/api/pandas.read_csv.html)-työkalulla. Pythonissa tällaiset työkalut ovat nimeltään funktioita. Käytännössä funktiot ovat sellaista koodia, jota tarvitaan usein, ja jota voidaan uudelleenkäyttää helposti. Pythonissa on paljon [valmiita funktioita](https://docs.python.org/3/library/functions.html), esimerkiksi  [`print()`](https://docs.python.org/3/library/functions.html#print), jota käytit jo aiemmin. `print()`-funktiolle kirjoitetaan sulkeiden sisään tulostettava teksti, kuten \"Hello, World!\". Tätä kutsutaan funktion parametriksi. Funktiosta riippuen parametreja voidaan tarvita useampiakin (tai ei yhtäkään). Otetaan vielä esimerkki funktiosta [`pow(x, y)`](https://docs.python.org/3/library/functions.html#pow), joka korottaa annetun luvun x potenssiin y:"
   ]
  },
  {
   "cell_type": "code",
   "execution_count": null,
   "metadata": {},
   "outputs": [],
   "source": [
    "# Lasketaan 3^2 (3 potenssiin 2). \n",
    "# Aja tämä solu\n",
    "\n",
    "pow(3,2)"
   ]
  },
  {
   "cell_type": "markdown",
   "metadata": {},
   "source": [
    "Funktio voi siis antaa jonkin **paluuarvon**, kuten äskeisessä esimerkissä luvun 9. Paluuarvo voidaan myös tallettaa **muuttujaan**, jolloin sitä voidaan käyttää myöhemmin koodissa."
   ]
  },
  {
   "cell_type": "code",
   "execution_count": null,
   "metadata": {},
   "outputs": [],
   "source": [
    "# Lasketaan 3^2 ja tallennetaan tulos muuttujaan \"x\"\n",
    "# Aja tämä solu. Huom. solu ei tulosta mitään, koska arvo vain tallennetaan muuttujaan.\n",
    "\n",
    "x = pow(3,2)"
   ]
  },
  {
   "cell_type": "code",
   "execution_count": null,
   "metadata": {},
   "outputs": [],
   "source": [
    "# Tulostetaan muuttujan x arvo\n",
    "# Huom. Muuttujan arvoa tulostettaessa ei käytetä lainausmerkkejä muuttujan nimen ympärillä.\n",
    "# Voit kokeilla mitä tapahtuu, jos lisäät lainausmerkit x:n ympärille.\n",
    "# Aja tämä solu\n",
    "\n",
    "print(x)"
   ]
  },
  {
   "cell_type": "markdown",
   "metadata": {},
   "source": [
    "Jotkin funktiot kuuluvat Pythoniin valmiina, mutta paketit (kuten pandas ja matplotlib) sisältävät ainakin meidän kannalta hyödyllisiä funktioita. Funktioita voi tehdä myös itse, mutta sitä ei käsitellä tässä ohjeessa.\n",
    "    \n",
    "Palataan datan lukemiseen. Dataa voidaan lukea pandas-paketin [`read_csv()`](https://pandas.pydata.org/pandas-docs/stable/reference/api/pandas.read_csv.html)-funktiolla, jolle annetaan parametrinä luettavan datatiedoston nimi/osoite, esimerkiksi\n",
    "\n",
    "```python\n",
    "pd.read_csv('tiedostonimi.csv')\n",
    "```\n",
    "\n",
    "[`read_csv()`](https://pandas.pydata.org/pandas-docs/stable/reference/api/pandas.read_csv.html)-funktiolle voidaan antaa paljon muitakin parametreja, esimerkiksi `delimiter=\";\"`, mikäli datatiedostossa erottimena olisi pilkun sijaan puolipilkku. Koko listan funktion parametreista näet [täältä](https://pandas.pydata.org/pandas-docs/stable/reference/api/pandas.read_csv.html).\n",
    "Pelkästään datan lukemisesta ei kuitenkaan ole hyötyä, vaan data pitää myös tallentaa, jotta sitä voidaan käyttää koodissa. Data voidaan tallentaa muuttujaan samaan tapaan kuin aiemmassa esimerkissä tallensimme potenssilaskun tuloksen:\n",
    "\n",
    "```python\n",
    "data = pd.read_csv('tiedostonimi.csv')\n",
    "```\n",
    "\n",
    "Kun data on tallennettu \"data\"-nimiseen muuttujaan, voimme myöhemmin koodissa käsitellä dataa tähän muuttujaan viittaamalla. Huomaa, että muuttujan nimen ei tarvitse olla \"data\", vaan sen voi vapaasti keksiä itse.\n",
    "\n",
    "<div class=\"alert alert-info\">\n",
    "    \n",
    "**Funktiot**\n",
    "    \n",
    "Funktion käyttäminen ja paluuarvon tallentaminen muuttujaan\n",
    "```python\n",
    "x = funktion_nimi(arg)\n",
    "data = pd.read_csv('tiedostonimi.csv')\n",
    "```\n",
    "</div>"
   ]
  },
  {
   "cell_type": "code",
   "execution_count": null,
   "metadata": {},
   "outputs": [],
   "source": [
    "# Kirjoita tähän soluun koodi, joka lukee datan tiedostosta \n",
    "# \"https://github.com/opendata-education/Python-ja-Jupyter/raw/main/materiaali/harjoitukset/keskilampotila2020_Helsinki.csv\"\n",
    "# ja tallentaa sen muuttujaan \"data\". Muista ajaa solu!\n",
    "# Huom! Datan lataamisesta ei tulostu mitään solua ajettaessa.\n"
   ]
  },
  {
   "cell_type": "markdown",
   "metadata": {},
   "source": [
    "### Datan tarkasteleminen"
   ]
  },
  {
   "cell_type": "markdown",
   "metadata": {},
   "source": [
    "Nyt, kun data on luettu ja tallennettu muuttujaan \"data\", voimme tarkastella sitä esimerkiksi [`head()`](https://pandas.pydata.org/pandas-docs/stable/reference/api/pandas.DataFrame.head.html)-funktiolla, jonka avulla voidaan tulostaa näytölle datan muutama ensimmäinen rivi. Joitakin funktioita voidaan käyttää vain tiettyjen **tietotyyppien** kanssa. Esimerkiksi [`head()`](https://pandas.pydata.org/pandas-docs/stable/reference/api/pandas.DataFrame.head.html)-funktiota voidaan käyttää mm. datataulukoiden (DataFrame) tarkastelemiseen. Edellisessä kohdassa funktio [`read_csv()`](https://pandas.pydata.org/pandas-docs/stable/reference/api/pandas.read_csv.html) luki datan tiedostosta ja tallensi sen datataulukkona muuttujaan \"data\". Tässä tapauksessa [`head()`](https://pandas.pydata.org/pandas-docs/stable/reference/api/pandas.DataFrame.head.html)-funktioita voitaisiin käyttää seuraavasti:"
   ]
  },
  {
   "cell_type": "code",
   "execution_count": null,
   "metadata": {},
   "outputs": [],
   "source": [
    "# Tulostetaan datan muutama ensimmäinen rivi\n",
    "# Aja tämä solu\n",
    "\n",
    "data.head()"
   ]
  },
  {
   "cell_type": "markdown",
   "metadata": {},
   "source": [
    "[`head()`](https://pandas.pydata.org/pandas-docs/stable/reference/api/pandas.DataFrame.head.html)-funktion eteen kirjoitetaan siis se muuttuja, joka sisältää sen datataulukon, jota haluamme tarkastella. Oletuksena [`head()`](https://pandas.pydata.org/pandas-docs/stable/reference/api/pandas.DataFrame.head.html) tulostaa viisi ensimmäistä riviä datasta. Sille voidaan antaa kuitenkin parametrina tulostettavien rivien lukumäärä.\n",
    "\n",
    "Joskus on myös hyvä tarkastella, mitä sarakkeita datassa on. Tämä onnistuu [`columns`](https://pandas.pydata.org/pandas-docs/stable/reference/api/pandas.DataFrame.columns.html)-komennolla. Huom. [`columns`](https://pandas.pydata.org/pandas-docs/stable/reference/api/pandas.DataFrame.columns.html) ei ole funktio, vaan datataulukon \"ominaisuus\". Tästä syystä emme kirjoita sulkeita komennon perään niin kuin funktioiden tapauksessa:\n",
    "\n",
    "```python\n",
    "data.columns\n",
    "```\n",
    "\n",
    "<div class=\"alert alert-info\">\n",
    "    \n",
    "**Datan tarkasteleminen**\n",
    "\n",
    "Data tallennettu muuttujaan \"data\"\n",
    "\n",
    "```python\n",
    "data = pd.read_csv('tiedostonimi.csv')\n",
    "```\n",
    "    \n",
    "Tulosta rivejä alusta\n",
    "```python3    \n",
    "data.head() # 5 ensimmäistä riviä\n",
    "data.head(8) # 8 ensimmäistä riviä\n",
    "```\n",
    "    \n",
    "Tulosta rivejä lopusta\n",
    "```python3    \n",
    "data.tail(3) # 3 viimeistä riviä\n",
    "```\n",
    "    \n",
    "Tarkastele datan sarakkeita (otsikoita)\n",
    "```python3    \n",
    "data.columns\n",
    "```\n",
    "</div>"
   ]
  },
  {
   "cell_type": "code",
   "execution_count": null,
   "metadata": {},
   "outputs": [],
   "source": [
    "# Tulosta datasta 4 ensimmäistä riviä ja katso mitä se sisältää.\n",
    "\n"
   ]
  },
  {
   "cell_type": "code",
   "execution_count": null,
   "metadata": {},
   "outputs": [],
   "source": [
    "# Katso, mitä sarakkeita data sisältää"
   ]
  },
  {
   "cell_type": "markdown",
   "metadata": {},
   "source": [
    "### Datan valitseminen"
   ]
  },
  {
   "cell_type": "markdown",
   "metadata": {},
   "source": [
    "Edellisessä vaiheessa saimme selville, että datamme sisältää sarakkeet \"Vuosi\", \"Kk\" sekä \"Keskilämpötila (degC)\". \n",
    "Tyypillisesti olemme kiinnostuneita tietystä tai tietyistä sarakkeista datatiedostossa.\n",
    "Voisimme esimerkiksi haluta piirtää kuvaajan, jossa x-akselilla ovat kuukaudet ja y-akselilla kuukauden keskilämpötila. \n",
    "\n",
    "Tätä varten voisimme erottaa sarakkeet omiksi muuttujikseen.\n",
    "Sarakkeen valitseminen datataulukosta onnistuu kulmasulkeiden `[]` avulla:\n",
    "\n",
    "```python\n",
    "sarake = data['sarakkeen_nimi']\n",
    "```\n",
    "\n",
    "<div class=\"alert alert-info\">\n",
    "    \n",
    "**Datan valitseminen**\n",
    "\n",
    "Valitaan datasta tietty sarake\n",
    "\n",
    "```python\n",
    "sarake = data['sarakkeen_nimi']\n",
    "```\n",
    "\n",
    "Esimerkiksi tallennetaan sarakkeen \"Kk\" sisältö muuttujaan \"kuukaudet\".\n",
    "    \n",
    "```python\n",
    "kuukaudet = data['Kk']\n",
    "```\n",
    "</div>"
   ]
  },
  {
   "cell_type": "code",
   "execution_count": null,
   "metadata": {},
   "outputs": [],
   "source": [
    "# Valitse datasta sarakkeet \"Kk\" ja \"Keskilämpötila (°C)\" ja tallenna ne muuttujiin \"kuukaudet\" ja \"lämpötilat\"\n",
    "# Muista ajaa solu. Huom. muuttujaan tallentamisesta ei tulostu mitään.\n"
   ]
  },
  {
   "cell_type": "code",
   "execution_count": null,
   "metadata": {},
   "outputs": [],
   "source": [
    "# Katso \"lämpötilat\"-muuttujan muutama ensimmäinen rivi. Vinkki: head()-metodi.\n",
    "\n"
   ]
  },
  {
   "cell_type": "markdown",
   "metadata": {},
   "source": [
    "### Datan visualisoiminen\n",
    "\n",
    "Datan visualisoimiseksi tarvitsemme [matplotlib]()-pakettia. Tämä paketti sisältää paljon käteviä funktioita esimerkiksi juuri kuvaajien piirtämistä varten. Kuvaajien piirtämistä varten tarvitsemme matplotlib-paketista ainoastaan pyplot-osuuden. Käytettävä `import` käsky on tällöin\n",
    "\n",
    "```python\n",
    "import matplotlib.pyplot as plt # lyhenne plt on yleinen tälle paketille\n",
    "```\n",
    "\n",
    "<div class=\"alert alert-info\">\n",
    "    \n",
    "**Matplotlib funktioita**\n",
    "\n",
    "```python\n",
    "plt.plot(x, y) # Piirretään y x:n funktiona\n",
    "plt.xlabel('otsikko') # x-akselin otsikko\n",
    "plt.ylabel('otsikko') # y-akselin otsikko\n",
    "plt.title('otsikko') # Kuvaajan otsikko\n",
    "plt.show() # Kuvaajan näyttäminen\n",
    "```\n",
    "</div>"
   ]
  },
  {
   "cell_type": "code",
   "execution_count": null,
   "metadata": {},
   "outputs": [],
   "source": [
    "# Ota matplotlib.pyplot moduuli käyttöön import-komennolla\n",
    "\n"
   ]
  },
  {
   "cell_type": "code",
   "execution_count": null,
   "metadata": {},
   "outputs": [],
   "source": [
    "# Käytä yllä olevia funktioita ja piirrä kuvaaja, jossa x-akselilla on kuukaudet ja y-akselilla on lämpötilat\n",
    "# Vinkki. x- ja y-muuttujien paikalle voit laittaa aiemmin määrittelemäsi muuttujat \"kuukaudet\" ja \"lämpötilat\".\n",
    "\n"
   ]
  },
  {
   "cell_type": "markdown",
   "metadata": {},
   "source": [
    "### Esimerkki"
   ]
  },
  {
   "cell_type": "markdown",
   "metadata": {},
   "source": [
    "Piirretään kolmen paikkakunnan (Helsinki, Tampere, Oulu) kuukausien keskilämpötilat vuonna 2020 samaan kuvaajaan. Tiedostojen nimet ovat:\n",
    "\n",
    "- keskilampotila2020_Helsinki.csv\n",
    "- keskilampotila2020_Tampere.csv\n",
    "- keskilampotila2020_Oulu.csv\n",
    "\n",
    "Huom. voit vain ajaa solut läpi. Voit myös muokata soluja jos haluat kokeilla tehdä jotain eri tavalla."
   ]
  },
  {
   "cell_type": "code",
   "execution_count": null,
   "metadata": {},
   "outputs": [],
   "source": [
    "# Otetaan käyttöön tarvittavat paketit\n",
    "\n",
    "import pandas as pd\n",
    "import matplotlib.pyplot as plt"
   ]
  },
  {
   "cell_type": "code",
   "execution_count": null,
   "metadata": {},
   "outputs": [],
   "source": [
    "# Luetaan datatiedostot eri muuttujiin\n",
    "\n",
    "data_hel = pd.read_csv('https://github.com/opendata-education/Python-ja-Jupyter/raw/main/materiaali/harjoitukset/keskilampotila2020_Helsinki.csv')\n",
    "data_tre = pd.read_csv('https://github.com/opendata-education/Python-ja-Jupyter/raw/main/materiaali/harjoitukset/keskilampotila2020_Tampere.csv')\n",
    "data_oul = pd.read_csv('https://github.com/opendata-education/Python-ja-Jupyter/raw/main/materiaali/harjoitukset/keskilampotila2020_Oulu.csv')"
   ]
  },
  {
   "cell_type": "code",
   "execution_count": null,
   "metadata": {},
   "outputs": [],
   "source": [
    "# Katsotaan, miltä data näyttää\n",
    "\n",
    "data_hel.head()"
   ]
  },
  {
   "cell_type": "code",
   "execution_count": null,
   "metadata": {},
   "outputs": [],
   "source": [
    "data_tre.head()"
   ]
  },
  {
   "cell_type": "code",
   "execution_count": null,
   "metadata": {},
   "outputs": [],
   "source": [
    "data_oul.head()"
   ]
  },
  {
   "cell_type": "code",
   "execution_count": null,
   "metadata": {},
   "outputs": [],
   "source": [
    "# Erotetaan lämpötilat omiksi muuttujikseen\n",
    "\n",
    "lämp_hel = data_hel['Keskilämpötila (degC)']\n",
    "lämp_tre = data_tre['Keskilämpötila (degC)']\n",
    "lämp_oul = data_oul['Keskilämpötila (degC)']"
   ]
  },
  {
   "cell_type": "code",
   "execution_count": null,
   "metadata": {},
   "outputs": [],
   "source": [
    "# x-akselille tulevat kuukaudet ovat kaikissa tapauksissa samat, joten tehdään vain yksi muuttuja niille\n",
    "\n",
    "kk = data_hel['Kk']"
   ]
  },
  {
   "cell_type": "code",
   "execution_count": null,
   "metadata": {},
   "outputs": [],
   "source": [
    "# Piirretään kuvaaja\n",
    "\n",
    "plt.plot(kk, lämp_hel, label='Helsinki') # Helsingin lämpötilat, mitä tehdään label-parametrilla?\n",
    "plt.plot(kk, lämp_tre, label='Tampere') # Tampereen lämpötilat\n",
    "plt.plot(kk, lämp_oul, label='Oulu') # Oulun lämpötilat\n",
    "plt.xlabel('Kuukausi') # x-akselin otsikko\n",
    "plt.ylabel('Lämpötila (°C)') # y-akselin otsikko\n",
    "plt.title('Kuukausien keskilämpötilat vuonna 2020') # Kuvaajan otsikko\n",
    "plt.legend() # Näytetään kaupunkien selitteet laatikossa. Mitä jos tätä riviä ei olisi?\n",
    "plt.show() # Näytetään kuvaaja"
   ]
  }
 ],
 "metadata": {
  "kernelspec": {
   "display_name": "Python 3 (ipykernel)",
   "language": "python",
   "name": "python3"
  },
  "language_info": {
   "codemirror_mode": {
    "name": "ipython",
    "version": 3
   },
   "file_extension": ".py",
   "mimetype": "text/x-python",
   "name": "python",
   "nbconvert_exporter": "python",
   "pygments_lexer": "ipython3",
   "version": "3.9.12"
  }
 },
 "nbformat": 4,
 "nbformat_minor": 4
}
